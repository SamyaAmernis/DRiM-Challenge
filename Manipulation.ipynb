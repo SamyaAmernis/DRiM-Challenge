{
 "cells": [
  {
   "cell_type": "code",
   "execution_count": 2,
   "metadata": {},
   "outputs": [],
   "source": [
    "import numpy   as np\n",
    "import pandas as pd\n",
    "import matplotlib.pyplot as plt \n",
    "import seaborn as sns\n",
    "import plotly.express as px\n"
   ]
  },
  {
   "cell_type": "code",
   "execution_count": null,
   "metadata": {},
   "outputs": [
    {
     "name": "stdout",
     "output_type": "stream",
     "text": [
      "bjh\n"
     ]
    }
   ],
   "source": [
    "#importation genral des bd\n",
    "Donnee_macroeconomique = pd.read_excel(\"Series macroeconomiques.xlsx\")\n",
    "data_Catastrophe = pd.read_excel(r\"catastrophes_naturelles .xlsx\")\n",
    "Donnee_de_creation = pd.read_csv(\"TABLE_CREATION_2017_2023.csv\")\n",
    "Donnee_de_défaillance = pd.read_csv(\"TABLE_DEFAUT_2017_2023.csv\")\n"
   ]
  },
  {
   "cell_type": "code",
   "execution_count": null,
   "metadata": {},
   "outputs": [],
   "source": [
    "#etude des catastrophe naturelle\n",
    "data_Catastrophe.head(2)"
   ]
  },
  {
   "cell_type": "code",
   "execution_count": null,
   "metadata": {},
   "outputs": [],
   "source": [
    "data_Catastrophe.columns"
   ]
  },
  {
   "cell_type": "code",
   "execution_count": null,
   "metadata": {},
   "outputs": [],
   "source": [
    "Colone_d_interet_data_catastrophe = [, \"Code Région\", \"annees\", \"nb_catnat\", \"ppr_prescrit\", \"ppr_approuve\", \"ppr_anticip\"]\n",
    "data_Catastrophe_restraint = data_Catastrophe[Colone_d_interet_data_catastrophe].sort_values(by =\"annees\", ascending =True)\n",
    "data_Catastrophe_restraint = data_Catastrophe_restraint[data_Catastrophe_restraint.annees>2016]\n"
   ]
  },
  {
   "cell_type": "code",
   "execution_count": null,
   "metadata": {},
   "outputs": [],
   "source": [
    "data_Catastrophe_restraint[\"annees\"] = pd.to_datetime(data_Catastrophe_restraint[\"annees\"])\n",
    "data_Catastrophe_restraint.set_index(\"annees\", inplace = True)\n"
   ]
  },
  {
   "cell_type": "code",
   "execution_count": null,
   "metadata": {},
   "outputs": [],
   "source": [
    "data_Catastrophe_restraint.head(3)"
   ]
  },
  {
   "cell_type": "code",
   "execution_count": null,
   "metadata": {},
   "outputs": [],
   "source": [
    "fig = px.bar(data_Catastrophe_restraint, x='Code Région', y='nb_catnat', title=\"Diagramme à Barres\", )\n",
    "fig.show()"
   ]
  }
 ],
 "metadata": {
  "kernelspec": {
   "display_name": "Python 3",
   "language": "python",
   "name": "python3"
  },
  "language_info": {
   "codemirror_mode": {
    "name": "ipython",
    "version": 3
   },
   "file_extension": ".py",
   "mimetype": "text/x-python",
   "name": "python",
   "nbconvert_exporter": "python",
   "pygments_lexer": "ipython3",
   "version": "3.10.8"
  }
 },
 "nbformat": 4,
 "nbformat_minor": 2
}
