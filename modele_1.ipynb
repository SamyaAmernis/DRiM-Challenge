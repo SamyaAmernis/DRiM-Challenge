{
  "cells": [
    {
      "cell_type": "markdown",
      "metadata": {
        "id": "view-in-github",
        "colab_type": "text"
      },
      "source": [
        "<a href=\"https://colab.research.google.com/github/SamyaAmernis/DRiM-Challenge/blob/main/modele_1.ipynb\" target=\"_parent\"><img src=\"https://colab.research.google.com/assets/colab-badge.svg\" alt=\"Open In Colab\"/></a>"
      ]
    },
    {
      "cell_type": "code",
      "execution_count": 1,
      "metadata": {
        "colab": {
          "base_uri": "https://localhost:8080/",
          "height": 390
        },
        "id": "WXBzb9r0Uaty",
        "outputId": "33feda8e-568d-4453-9c05-bf43e3153a07"
      },
      "outputs": [
        {
          "output_type": "error",
          "ename": "FileNotFoundError",
          "evalue": "ignored",
          "traceback": [
            "\u001b[0;31m---------------------------------------------------------------------------\u001b[0m",
            "\u001b[0;31mFileNotFoundError\u001b[0m                         Traceback (most recent call last)",
            "\u001b[0;32m<ipython-input-1-5b44ab3c2bbd>\u001b[0m in \u001b[0;36m<cell line: 2>\u001b[0;34m()\u001b[0m\n\u001b[1;32m      1\u001b[0m \u001b[0;32mimport\u001b[0m \u001b[0mpandas\u001b[0m \u001b[0;32mas\u001b[0m \u001b[0mpd\u001b[0m\u001b[0;34m\u001b[0m\u001b[0;34m\u001b[0m\u001b[0m\n\u001b[0;32m----> 2\u001b[0;31m \u001b[0mdf_creation\u001b[0m \u001b[0;34m=\u001b[0m \u001b[0mpd\u001b[0m\u001b[0;34m.\u001b[0m\u001b[0mread_csv\u001b[0m\u001b[0;34m(\u001b[0m\u001b[0mfilepath_or_buffer\u001b[0m \u001b[0;34m=\u001b[0m \u001b[0;34m'./TABLE_CREATION_VF.csv'\u001b[0m\u001b[0;34m)\u001b[0m\u001b[0;34m\u001b[0m\u001b[0;34m\u001b[0m\u001b[0m\n\u001b[0m\u001b[1;32m      3\u001b[0m \u001b[0mdf_defaut\u001b[0m \u001b[0;34m=\u001b[0m \u001b[0mpd\u001b[0m\u001b[0;34m.\u001b[0m\u001b[0mread_csv\u001b[0m\u001b[0;34m(\u001b[0m\u001b[0mfilepath_or_buffer\u001b[0m \u001b[0;34m=\u001b[0m \u001b[0;34m'./TABLE_DEFAUT_VF.csv'\u001b[0m\u001b[0;34m)\u001b[0m\u001b[0;34m\u001b[0m\u001b[0;34m\u001b[0m\u001b[0m\n\u001b[1;32m      4\u001b[0m \u001b[0mdf_pib\u001b[0m \u001b[0;34m=\u001b[0m \u001b[0mpd\u001b[0m\u001b[0;34m.\u001b[0m\u001b[0mread_csv\u001b[0m\u001b[0;34m(\u001b[0m\u001b[0mfilepath_or_buffer\u001b[0m \u001b[0;34m=\u001b[0m \u001b[0;34m'./TABLE_PIB_CLEAN.csv'\u001b[0m\u001b[0;34m)\u001b[0m\u001b[0;34m\u001b[0m\u001b[0;34m\u001b[0m\u001b[0m\n\u001b[1;32m      5\u001b[0m \u001b[0mdf_chomage\u001b[0m \u001b[0;34m=\u001b[0m \u001b[0mpd\u001b[0m\u001b[0;34m.\u001b[0m\u001b[0mread_csv\u001b[0m\u001b[0;34m(\u001b[0m\u001b[0mfilepath_or_buffer\u001b[0m \u001b[0;34m=\u001b[0m \u001b[0;34m'./TABLE_CHOMAGE_VF.csv'\u001b[0m\u001b[0;34m)\u001b[0m\u001b[0;34m\u001b[0m\u001b[0;34m\u001b[0m\u001b[0m\n",
            "\u001b[0;32m/usr/local/lib/python3.10/dist-packages/pandas/util/_decorators.py\u001b[0m in \u001b[0;36mwrapper\u001b[0;34m(*args, **kwargs)\u001b[0m\n\u001b[1;32m    209\u001b[0m                 \u001b[0;32melse\u001b[0m\u001b[0;34m:\u001b[0m\u001b[0;34m\u001b[0m\u001b[0;34m\u001b[0m\u001b[0m\n\u001b[1;32m    210\u001b[0m                     \u001b[0mkwargs\u001b[0m\u001b[0;34m[\u001b[0m\u001b[0mnew_arg_name\u001b[0m\u001b[0;34m]\u001b[0m \u001b[0;34m=\u001b[0m \u001b[0mnew_arg_value\u001b[0m\u001b[0;34m\u001b[0m\u001b[0;34m\u001b[0m\u001b[0m\n\u001b[0;32m--> 211\u001b[0;31m             \u001b[0;32mreturn\u001b[0m \u001b[0mfunc\u001b[0m\u001b[0;34m(\u001b[0m\u001b[0;34m*\u001b[0m\u001b[0margs\u001b[0m\u001b[0;34m,\u001b[0m \u001b[0;34m**\u001b[0m\u001b[0mkwargs\u001b[0m\u001b[0;34m)\u001b[0m\u001b[0;34m\u001b[0m\u001b[0;34m\u001b[0m\u001b[0m\n\u001b[0m\u001b[1;32m    212\u001b[0m \u001b[0;34m\u001b[0m\u001b[0m\n\u001b[1;32m    213\u001b[0m         \u001b[0;32mreturn\u001b[0m \u001b[0mcast\u001b[0m\u001b[0;34m(\u001b[0m\u001b[0mF\u001b[0m\u001b[0;34m,\u001b[0m \u001b[0mwrapper\u001b[0m\u001b[0;34m)\u001b[0m\u001b[0;34m\u001b[0m\u001b[0;34m\u001b[0m\u001b[0m\n",
            "\u001b[0;32m/usr/local/lib/python3.10/dist-packages/pandas/util/_decorators.py\u001b[0m in \u001b[0;36mwrapper\u001b[0;34m(*args, **kwargs)\u001b[0m\n\u001b[1;32m    329\u001b[0m                     \u001b[0mstacklevel\u001b[0m\u001b[0;34m=\u001b[0m\u001b[0mfind_stack_level\u001b[0m\u001b[0;34m(\u001b[0m\u001b[0;34m)\u001b[0m\u001b[0;34m,\u001b[0m\u001b[0;34m\u001b[0m\u001b[0;34m\u001b[0m\u001b[0m\n\u001b[1;32m    330\u001b[0m                 )\n\u001b[0;32m--> 331\u001b[0;31m             \u001b[0;32mreturn\u001b[0m \u001b[0mfunc\u001b[0m\u001b[0;34m(\u001b[0m\u001b[0;34m*\u001b[0m\u001b[0margs\u001b[0m\u001b[0;34m,\u001b[0m \u001b[0;34m**\u001b[0m\u001b[0mkwargs\u001b[0m\u001b[0;34m)\u001b[0m\u001b[0;34m\u001b[0m\u001b[0;34m\u001b[0m\u001b[0m\n\u001b[0m\u001b[1;32m    332\u001b[0m \u001b[0;34m\u001b[0m\u001b[0m\n\u001b[1;32m    333\u001b[0m         \u001b[0;31m# error: \"Callable[[VarArg(Any), KwArg(Any)], Any]\" has no\u001b[0m\u001b[0;34m\u001b[0m\u001b[0;34m\u001b[0m\u001b[0m\n",
            "\u001b[0;32m/usr/local/lib/python3.10/dist-packages/pandas/io/parsers/readers.py\u001b[0m in \u001b[0;36mread_csv\u001b[0;34m(filepath_or_buffer, sep, delimiter, header, names, index_col, usecols, squeeze, prefix, mangle_dupe_cols, dtype, engine, converters, true_values, false_values, skipinitialspace, skiprows, skipfooter, nrows, na_values, keep_default_na, na_filter, verbose, skip_blank_lines, parse_dates, infer_datetime_format, keep_date_col, date_parser, dayfirst, cache_dates, iterator, chunksize, compression, thousands, decimal, lineterminator, quotechar, quoting, doublequote, escapechar, comment, encoding, encoding_errors, dialect, error_bad_lines, warn_bad_lines, on_bad_lines, delim_whitespace, low_memory, memory_map, float_precision, storage_options)\u001b[0m\n\u001b[1;32m    948\u001b[0m     \u001b[0mkwds\u001b[0m\u001b[0;34m.\u001b[0m\u001b[0mupdate\u001b[0m\u001b[0;34m(\u001b[0m\u001b[0mkwds_defaults\u001b[0m\u001b[0;34m)\u001b[0m\u001b[0;34m\u001b[0m\u001b[0;34m\u001b[0m\u001b[0m\n\u001b[1;32m    949\u001b[0m \u001b[0;34m\u001b[0m\u001b[0m\n\u001b[0;32m--> 950\u001b[0;31m     \u001b[0;32mreturn\u001b[0m \u001b[0m_read\u001b[0m\u001b[0;34m(\u001b[0m\u001b[0mfilepath_or_buffer\u001b[0m\u001b[0;34m,\u001b[0m \u001b[0mkwds\u001b[0m\u001b[0;34m)\u001b[0m\u001b[0;34m\u001b[0m\u001b[0;34m\u001b[0m\u001b[0m\n\u001b[0m\u001b[1;32m    951\u001b[0m \u001b[0;34m\u001b[0m\u001b[0m\n\u001b[1;32m    952\u001b[0m \u001b[0;34m\u001b[0m\u001b[0m\n",
            "\u001b[0;32m/usr/local/lib/python3.10/dist-packages/pandas/io/parsers/readers.py\u001b[0m in \u001b[0;36m_read\u001b[0;34m(filepath_or_buffer, kwds)\u001b[0m\n\u001b[1;32m    603\u001b[0m \u001b[0;34m\u001b[0m\u001b[0m\n\u001b[1;32m    604\u001b[0m     \u001b[0;31m# Create the parser.\u001b[0m\u001b[0;34m\u001b[0m\u001b[0;34m\u001b[0m\u001b[0m\n\u001b[0;32m--> 605\u001b[0;31m     \u001b[0mparser\u001b[0m \u001b[0;34m=\u001b[0m \u001b[0mTextFileReader\u001b[0m\u001b[0;34m(\u001b[0m\u001b[0mfilepath_or_buffer\u001b[0m\u001b[0;34m,\u001b[0m \u001b[0;34m**\u001b[0m\u001b[0mkwds\u001b[0m\u001b[0;34m)\u001b[0m\u001b[0;34m\u001b[0m\u001b[0;34m\u001b[0m\u001b[0m\n\u001b[0m\u001b[1;32m    606\u001b[0m \u001b[0;34m\u001b[0m\u001b[0m\n\u001b[1;32m    607\u001b[0m     \u001b[0;32mif\u001b[0m \u001b[0mchunksize\u001b[0m \u001b[0;32mor\u001b[0m \u001b[0miterator\u001b[0m\u001b[0;34m:\u001b[0m\u001b[0;34m\u001b[0m\u001b[0;34m\u001b[0m\u001b[0m\n",
            "\u001b[0;32m/usr/local/lib/python3.10/dist-packages/pandas/io/parsers/readers.py\u001b[0m in \u001b[0;36m__init__\u001b[0;34m(self, f, engine, **kwds)\u001b[0m\n\u001b[1;32m   1440\u001b[0m \u001b[0;34m\u001b[0m\u001b[0m\n\u001b[1;32m   1441\u001b[0m         \u001b[0mself\u001b[0m\u001b[0;34m.\u001b[0m\u001b[0mhandles\u001b[0m\u001b[0;34m:\u001b[0m \u001b[0mIOHandles\u001b[0m \u001b[0;34m|\u001b[0m \u001b[0;32mNone\u001b[0m \u001b[0;34m=\u001b[0m \u001b[0;32mNone\u001b[0m\u001b[0;34m\u001b[0m\u001b[0;34m\u001b[0m\u001b[0m\n\u001b[0;32m-> 1442\u001b[0;31m         \u001b[0mself\u001b[0m\u001b[0;34m.\u001b[0m\u001b[0m_engine\u001b[0m \u001b[0;34m=\u001b[0m \u001b[0mself\u001b[0m\u001b[0;34m.\u001b[0m\u001b[0m_make_engine\u001b[0m\u001b[0;34m(\u001b[0m\u001b[0mf\u001b[0m\u001b[0;34m,\u001b[0m \u001b[0mself\u001b[0m\u001b[0;34m.\u001b[0m\u001b[0mengine\u001b[0m\u001b[0;34m)\u001b[0m\u001b[0;34m\u001b[0m\u001b[0;34m\u001b[0m\u001b[0m\n\u001b[0m\u001b[1;32m   1443\u001b[0m \u001b[0;34m\u001b[0m\u001b[0m\n\u001b[1;32m   1444\u001b[0m     \u001b[0;32mdef\u001b[0m \u001b[0mclose\u001b[0m\u001b[0;34m(\u001b[0m\u001b[0mself\u001b[0m\u001b[0;34m)\u001b[0m \u001b[0;34m->\u001b[0m \u001b[0;32mNone\u001b[0m\u001b[0;34m:\u001b[0m\u001b[0;34m\u001b[0m\u001b[0;34m\u001b[0m\u001b[0m\n",
            "\u001b[0;32m/usr/local/lib/python3.10/dist-packages/pandas/io/parsers/readers.py\u001b[0m in \u001b[0;36m_make_engine\u001b[0;34m(self, f, engine)\u001b[0m\n\u001b[1;32m   1733\u001b[0m                 \u001b[0;32mif\u001b[0m \u001b[0;34m\"b\"\u001b[0m \u001b[0;32mnot\u001b[0m \u001b[0;32min\u001b[0m \u001b[0mmode\u001b[0m\u001b[0;34m:\u001b[0m\u001b[0;34m\u001b[0m\u001b[0;34m\u001b[0m\u001b[0m\n\u001b[1;32m   1734\u001b[0m                     \u001b[0mmode\u001b[0m \u001b[0;34m+=\u001b[0m \u001b[0;34m\"b\"\u001b[0m\u001b[0;34m\u001b[0m\u001b[0;34m\u001b[0m\u001b[0m\n\u001b[0;32m-> 1735\u001b[0;31m             self.handles = get_handle(\n\u001b[0m\u001b[1;32m   1736\u001b[0m                 \u001b[0mf\u001b[0m\u001b[0;34m,\u001b[0m\u001b[0;34m\u001b[0m\u001b[0;34m\u001b[0m\u001b[0m\n\u001b[1;32m   1737\u001b[0m                 \u001b[0mmode\u001b[0m\u001b[0;34m,\u001b[0m\u001b[0;34m\u001b[0m\u001b[0;34m\u001b[0m\u001b[0m\n",
            "\u001b[0;32m/usr/local/lib/python3.10/dist-packages/pandas/io/common.py\u001b[0m in \u001b[0;36mget_handle\u001b[0;34m(path_or_buf, mode, encoding, compression, memory_map, is_text, errors, storage_options)\u001b[0m\n\u001b[1;32m    854\u001b[0m         \u001b[0;32mif\u001b[0m \u001b[0mioargs\u001b[0m\u001b[0;34m.\u001b[0m\u001b[0mencoding\u001b[0m \u001b[0;32mand\u001b[0m \u001b[0;34m\"b\"\u001b[0m \u001b[0;32mnot\u001b[0m \u001b[0;32min\u001b[0m \u001b[0mioargs\u001b[0m\u001b[0;34m.\u001b[0m\u001b[0mmode\u001b[0m\u001b[0;34m:\u001b[0m\u001b[0;34m\u001b[0m\u001b[0;34m\u001b[0m\u001b[0m\n\u001b[1;32m    855\u001b[0m             \u001b[0;31m# Encoding\u001b[0m\u001b[0;34m\u001b[0m\u001b[0;34m\u001b[0m\u001b[0m\n\u001b[0;32m--> 856\u001b[0;31m             handle = open(\n\u001b[0m\u001b[1;32m    857\u001b[0m                 \u001b[0mhandle\u001b[0m\u001b[0;34m,\u001b[0m\u001b[0;34m\u001b[0m\u001b[0;34m\u001b[0m\u001b[0m\n\u001b[1;32m    858\u001b[0m                 \u001b[0mioargs\u001b[0m\u001b[0;34m.\u001b[0m\u001b[0mmode\u001b[0m\u001b[0;34m,\u001b[0m\u001b[0;34m\u001b[0m\u001b[0;34m\u001b[0m\u001b[0m\n",
            "\u001b[0;31mFileNotFoundError\u001b[0m: [Errno 2] No such file or directory: './TABLE_CREATION_VF.csv'"
          ]
        }
      ],
      "source": [
        "import pandas as pd\n",
        "df_creation = pd.read_csv(filepath_or_buffer = './TABLE_CREATION_VF.csv')\n",
        "df_defaut = pd.read_csv(filepath_or_buffer = './TABLE_DEFAUT_VF.csv')\n",
        "df_pib = pd.read_csv(filepath_or_buffer = './TABLE_PIB_CLEAN.csv')\n",
        "df_chomage = pd.read_csv(filepath_or_buffer = './TABLE_CHOMAGE_VF.csv')\n",
        "\n"
      ]
    },
    {
      "cell_type": "code",
      "execution_count": null,
      "metadata": {
        "id": "GOTEX3-CUatz"
      },
      "outputs": [],
      "source": [
        "import pandas as pd\n",
        "from unidecode import unidecode"
      ]
    },
    {
      "cell_type": "markdown",
      "metadata": {
        "id": "iqztpxK2Uat0"
      },
      "source": [
        "<h3>DISPLAY INITIAL DB"
      ]
    },
    {
      "cell_type": "code",
      "execution_count": null,
      "metadata": {
        "id": "H99I5aoQUat1"
      },
      "outputs": [],
      "source": [
        "df_chomage"
      ]
    },
    {
      "cell_type": "code",
      "execution_count": null,
      "metadata": {
        "id": "5hyacmHwUat2"
      },
      "outputs": [],
      "source": [
        "df_defaut"
      ]
    },
    {
      "cell_type": "code",
      "execution_count": null,
      "metadata": {
        "id": "6Y0RZwXsUat2"
      },
      "outputs": [],
      "source": [
        "df_pib"
      ]
    },
    {
      "cell_type": "code",
      "execution_count": null,
      "metadata": {
        "id": "TjLFYi_yUat3"
      },
      "outputs": [],
      "source": [
        "df_chomage"
      ]
    },
    {
      "cell_type": "markdown",
      "metadata": {
        "id": "9UhAOrl4Uat3"
      },
      "source": [
        " <h3> 1. Faire la fusion PIB CHOMAGE"
      ]
    },
    {
      "cell_type": "code",
      "execution_count": null,
      "metadata": {
        "id": "KG_jYU6EUat4"
      },
      "outputs": [],
      "source": [
        "df_chomage = df_chomage.rename(columns={'Libellé': 'Région'})"
      ]
    },
    {
      "cell_type": "code",
      "execution_count": null,
      "metadata": {
        "id": "hbwC4KlwUat4"
      },
      "outputs": [],
      "source": [
        "df_chomage"
      ]
    },
    {
      "cell_type": "code",
      "execution_count": null,
      "metadata": {
        "id": "0VMMJcFQUat4"
      },
      "outputs": [],
      "source": [
        "df_pib['Région'] = df_pib['Région'].apply(lambda x: unidecode(x).upper())"
      ]
    },
    {
      "cell_type": "code",
      "execution_count": null,
      "metadata": {
        "id": "pBU0537YUat5"
      },
      "outputs": [],
      "source": [
        "df_pib"
      ]
    },
    {
      "cell_type": "markdown",
      "metadata": {
        "id": "LGBTCgW9Uat5"
      },
      "source": [
        "<h4 style=\"color:red\"> Attention la clé primare est région & année <h4>"
      ]
    },
    {
      "cell_type": "code",
      "execution_count": null,
      "metadata": {
        "scrolled": false,
        "id": "NkKuZRm3Uat5"
      },
      "outputs": [],
      "source": [
        "df_merged2 = pd.merge(df_pib, df_chomage, left_on='Région', right_on='Région')\n",
        "df_merged2"
      ]
    },
    {
      "cell_type": "markdown",
      "metadata": {
        "id": "L3T9wMFwUat5"
      },
      "source": [
        "Avec cette clé c'est uniquement le PIB de 2012 qui est appliqué à toutes les années..."
      ]
    },
    {
      "cell_type": "markdown",
      "metadata": {
        "id": "FzrugBitUat5"
      },
      "source": [
        "On change le titre trimestre en Année dans la base chômage."
      ]
    },
    {
      "cell_type": "code",
      "execution_count": null,
      "metadata": {
        "id": "fJEhmJUpUat5"
      },
      "outputs": [],
      "source": [
        "df_chomage = df_chomage.rename(columns={'trimestre': 'Année'})"
      ]
    },
    {
      "cell_type": "code",
      "execution_count": null,
      "metadata": {
        "id": "1SK9aLDQUat6"
      },
      "outputs": [],
      "source": [
        "df_chomage"
      ]
    },
    {
      "cell_type": "markdown",
      "metadata": {
        "id": "c09sJQF9Uat6"
      },
      "source": [
        "On merge avec la clé primaire"
      ]
    },
    {
      "cell_type": "code",
      "execution_count": null,
      "metadata": {
        "id": "JfGU81CkUat6"
      },
      "outputs": [],
      "source": [
        "df_pib.info()"
      ]
    },
    {
      "cell_type": "code",
      "execution_count": null,
      "metadata": {
        "id": "3gxtZ9uBUat6"
      },
      "outputs": [],
      "source": [
        "df_chomage.info()"
      ]
    },
    {
      "cell_type": "markdown",
      "metadata": {
        "id": "68Al1KH4Uat6"
      },
      "source": [
        "<p style=\"color:red\"> Il faut mettre l'année en INT64 car les valeurs des PIB ont été importés comme des string au lieu de INT <p>"
      ]
    },
    {
      "cell_type": "code",
      "execution_count": null,
      "metadata": {
        "id": "mLgwIo0yUat6"
      },
      "outputs": [],
      "source": [
        "df_pib['Année'] = df_pib['Année'].str.replace('\\D', '', regex=True)\n",
        "df_pib['Année'] = df_pib['Année'].astype('int64')"
      ]
    },
    {
      "cell_type": "code",
      "execution_count": null,
      "metadata": {
        "id": "yak8IeGQUat6"
      },
      "outputs": [],
      "source": [
        "df_pib.info()"
      ]
    },
    {
      "cell_type": "code",
      "execution_count": null,
      "metadata": {
        "id": "aBi3qOHLUat7"
      },
      "outputs": [],
      "source": [
        "df_pib['PIB_VAL'] = df_pib['PIB_VAL'].str.replace('\\D', '', regex=True)\n",
        "df_pib['PIB_VAL'] = df_pib['PIB_VAL'].astype('int64')"
      ]
    },
    {
      "cell_type": "code",
      "execution_count": null,
      "metadata": {
        "id": "kXJd6o8WUat7"
      },
      "outputs": [],
      "source": [
        "df_pib"
      ]
    },
    {
      "cell_type": "code",
      "execution_count": null,
      "metadata": {
        "id": "R3pLgZqhUat7"
      },
      "outputs": [],
      "source": [
        "df_pib['PIB_VOL'] = df_pib['PIB_VOL'].str.replace('\\D', '', regex=True)\n",
        "df_pib['PIB_VOL'] = df_pib['PIB_VOL'].astype('int64')"
      ]
    },
    {
      "cell_type": "code",
      "execution_count": null,
      "metadata": {
        "id": "-A8uhJBrUat7"
      },
      "outputs": [],
      "source": [
        "df_pib['PIB_HAB'] = df_pib['PIB_HAB'].str.replace('\\D', '', regex=True)\n",
        "df_pib['PIB_HAB'] = df_pib['PIB_HAB'].astype('int64')"
      ]
    },
    {
      "cell_type": "code",
      "execution_count": null,
      "metadata": {
        "id": "XnhCqbrMUat7"
      },
      "outputs": [],
      "source": [
        "df_pib['PIB_EMP'] = df_pib['PIB_EMP'].str.replace('\\D', '', regex=True)\n",
        "df_pib['PIB_EMP'] = df_pib['PIB_EMP'].astype('int64')"
      ]
    },
    {
      "cell_type": "code",
      "execution_count": null,
      "metadata": {
        "id": "bIZqrPQLUat7"
      },
      "outputs": [],
      "source": [
        "df_pib"
      ]
    },
    {
      "cell_type": "code",
      "execution_count": null,
      "metadata": {
        "id": "Irt9kOQdUat7"
      },
      "outputs": [],
      "source": [
        "df_merged = pd.merge(df_pib, df_chomage, on=['Région', 'Année'])"
      ]
    },
    {
      "cell_type": "code",
      "execution_count": null,
      "metadata": {
        "id": "ZbH7y5b2Uat7"
      },
      "outputs": [],
      "source": [
        "df_merged"
      ]
    },
    {
      "cell_type": "code",
      "execution_count": null,
      "metadata": {
        "id": "WI-cmlSlUat8"
      },
      "outputs": [],
      "source": [
        "df_code_84 = df_merged.loc[df_merged['Code'] == 84]\n",
        "df_code_84"
      ]
    },
    {
      "cell_type": "markdown",
      "metadata": {
        "id": "hG7NB6PLUat8"
      },
      "source": [
        " <h3> 2. Faire la fusion MERGE 1 wth CREATION & Defaut\n",
        "   "
      ]
    },
    {
      "cell_type": "code",
      "execution_count": null,
      "metadata": {
        "id": "tF3vz8R3Uat8"
      },
      "outputs": [],
      "source": [
        "df_creation"
      ]
    },
    {
      "cell_type": "markdown",
      "metadata": {
        "id": "C_jTkYJlUat8"
      },
      "source": [
        "<h3 style=\"color:blue\" echelle departementale"
      ]
    },
    {
      "cell_type": "code",
      "execution_count": null,
      "metadata": {
        "id": "WpeaONwqUat8"
      },
      "outputs": [],
      "source": [
        "df_creation = df_creation.rename(columns={'trimestre': 'Année'})\n",
        "df_creation = df_creation.rename(columns={'code_region': 'Code'})\n",
        "df_creation"
      ]
    },
    {
      "cell_type": "markdown",
      "metadata": {
        "id": "yNQJ1X0BUat9"
      },
      "source": [
        "<h3 style=\"color:blue\"> Hypothèse 1 Echelle departementale"
      ]
    },
    {
      "cell_type": "code",
      "execution_count": null,
      "metadata": {
        "id": "w6GBIyV7Uat9"
      },
      "outputs": [],
      "source": [
        "df_merged_h1 = pd.merge(df_creation, df_merged,  on=['Code', 'Année'] ,  how='left')\n",
        "df_merged_h1"
      ]
    },
    {
      "cell_type": "code",
      "execution_count": null,
      "metadata": {
        "id": "FGC-DswpUauG"
      },
      "outputs": [],
      "source": [
        "df_code_84 = df_merged.loc[df_merged['Code'] == 4]\n",
        "df_code_84"
      ]
    },
    {
      "cell_type": "code",
      "execution_count": null,
      "metadata": {
        "id": "cyNyPizVUauG"
      },
      "outputs": [],
      "source": [
        "df_merged_h1.info()"
      ]
    },
    {
      "cell_type": "code",
      "execution_count": null,
      "metadata": {
        "id": "pvMN9_UOUauG"
      },
      "outputs": [],
      "source": [
        "df_merged_h1 = df_merged_h1.dropna(subset=['Région'])"
      ]
    },
    {
      "cell_type": "code",
      "execution_count": null,
      "metadata": {
        "id": "VGGXwSsoUauG"
      },
      "outputs": [],
      "source": [
        "df_merged_h1"
      ]
    },
    {
      "cell_type": "code",
      "execution_count": null,
      "metadata": {
        "id": "vj5b1nIxUauH"
      },
      "outputs": [],
      "source": [
        "df_code_84_h1 = df_merged_h1.loc[df_merged_h1['Code'] == 84]\n",
        "df_code_84_h1"
      ]
    },
    {
      "cell_type": "markdown",
      "metadata": {
        "id": "nqf7-OXpUauH"
      },
      "source": [
        "<h4>Ajout des defauts<h4>"
      ]
    },
    {
      "cell_type": "code",
      "execution_count": null,
      "metadata": {
        "id": "90BqxPzoUauH"
      },
      "outputs": [],
      "source": [
        "df_defaut"
      ]
    },
    {
      "cell_type": "code",
      "execution_count": null,
      "metadata": {
        "id": "J977xjOYUauH"
      },
      "outputs": [],
      "source": [
        "df_defaut = df_defaut.rename(columns={'code_region': 'Code'})\n",
        "df_defaut = df_defaut.rename(columns={'trimestre': 'Année'})\n",
        "df_defaut"
      ]
    },
    {
      "cell_type": "code",
      "execution_count": null,
      "metadata": {
        "id": "eHkW85oNUauH"
      },
      "outputs": [],
      "source": [
        "df_merged_2_h1 = pd.merge(df_merged_h1, df_defaut,  on=['Secteur','Code', 'Année', 'code_dep'] ,  how='left')\n",
        "df_merged_2_h1"
      ]
    },
    {
      "cell_type": "code",
      "execution_count": null,
      "metadata": {
        "id": "60ehy8Z8UauH"
      },
      "outputs": [],
      "source": [
        "df_merged_2_h1.info()"
      ]
    },
    {
      "cell_type": "code",
      "execution_count": null,
      "metadata": {
        "id": "9F50N9TJUauH"
      },
      "outputs": [],
      "source": [
        "df_merged_2_h1['nombre_defaut'] = df_merged_2_h1['nombre_defaut'].fillna(0)"
      ]
    },
    {
      "cell_type": "code",
      "execution_count": null,
      "metadata": {
        "id": "snAUcs9mUauH"
      },
      "outputs": [],
      "source": [
        "df_merged_2_h1"
      ]
    },
    {
      "cell_type": "code",
      "execution_count": null,
      "metadata": {
        "id": "DzmO9zqlUauH"
      },
      "outputs": [],
      "source": [
        "df_merged_3_h1 = df_merged_2_h1"
      ]
    },
    {
      "cell_type": "code",
      "execution_count": null,
      "metadata": {
        "id": "Ya-ELNOqUauI"
      },
      "outputs": [],
      "source": [
        "df_merged_3_h1['variation'] = df_merged_3_h1['nombre_creation'] - df_merged_3_h1['nombre_defaut']"
      ]
    },
    {
      "cell_type": "code",
      "execution_count": null,
      "metadata": {
        "id": "7bF3sMWCUauI"
      },
      "outputs": [],
      "source": [
        "df_merged_3_h1"
      ]
    },
    {
      "cell_type": "markdown",
      "metadata": {
        "id": "MRphpfZxUauI"
      },
      "source": [
        "<p style=\"color:red\"> On ne peut faire notre modèle linéaire que sur des variables numériques il faut donc segmenter nos regions <p>"
      ]
    },
    {
      "cell_type": "code",
      "execution_count": null,
      "metadata": {
        "id": "Y0Y4pR5jUauI"
      },
      "outputs": [],
      "source": [
        "df_creation"
      ]
    },
    {
      "cell_type": "code",
      "execution_count": null,
      "metadata": {
        "id": "cT-xZybnUauI"
      },
      "outputs": [],
      "source": [
        "df_creation_w = df_creation[[\"Code\",\"nombre_creation\"]]"
      ]
    },
    {
      "cell_type": "code",
      "execution_count": null,
      "metadata": {
        "id": "oN_VM1BsUauI"
      },
      "outputs": [],
      "source": [
        "df_creation_w"
      ]
    },
    {
      "cell_type": "code",
      "execution_count": null,
      "metadata": {
        "id": "mrTo1wBlUauI"
      },
      "outputs": [],
      "source": [
        "df_grouped = df_creation_w.groupby(['Code'])['nombre_creation'].sum().reset_index()"
      ]
    },
    {
      "cell_type": "code",
      "execution_count": null,
      "metadata": {
        "id": "F-6-hF74UauI"
      },
      "outputs": [],
      "source": [
        "df_grouped"
      ]
    },
    {
      "cell_type": "code",
      "execution_count": null,
      "metadata": {
        "id": "JiTPSidaUauI"
      },
      "outputs": [],
      "source": [
        "df_grouped['Quartile_Region_MOY'] = pd.qcut(df_grouped['nombre_creation'], q=4, labels=[1, 2, 3, 4])\n",
        "df_grouped"
      ]
    },
    {
      "cell_type": "code",
      "execution_count": null,
      "metadata": {
        "id": "UyfpADWXUauI"
      },
      "outputs": [],
      "source": [
        "df_creation2 = df_creation.merge(resultat[['Secteur', 'Quartile_MOY']], on='Secteur', how='left')"
      ]
    },
    {
      "cell_type": "code",
      "execution_count": null,
      "metadata": {
        "id": "HpWSfnuKUauJ"
      },
      "outputs": [],
      "source": [
        "df_merged_4_h1 = df_merged_3_h1.merge(df_grouped[['Code', 'Quartile_Region_MOY']], on='Code', how='left')\n",
        "df_merged_4_h1"
      ]
    },
    {
      "cell_type": "code",
      "execution_count": null,
      "metadata": {
        "id": "YS6dXfCBUauJ"
      },
      "outputs": [],
      "source": [
        "df_merged_4_h1.info()"
      ]
    },
    {
      "cell_type": "code",
      "execution_count": null,
      "metadata": {
        "id": "eHv_OM5eUauJ"
      },
      "outputs": [],
      "source": []
    },
    {
      "cell_type": "code",
      "execution_count": null,
      "metadata": {
        "id": "ePod7qxLUauJ"
      },
      "outputs": [],
      "source": [
        "from sklearn.model_selection import train_test_split\n",
        "from sklearn.linear_model import LinearRegression\n",
        "from sklearn.metrics import mean_squared_error, r2_score"
      ]
    },
    {
      "cell_type": "code",
      "execution_count": null,
      "metadata": {
        "id": "_ITSLFsDUauJ"
      },
      "outputs": [],
      "source": []
    },
    {
      "cell_type": "code",
      "execution_count": null,
      "metadata": {
        "id": "C7YkH_HnUauJ"
      },
      "outputs": [],
      "source": [
        "\n",
        "# Sélectionnez les colonnes pour X (caractéristiques) et y (variable cible)\n",
        "X = df_merged_4_h1[[ 'Année', 'Quartile_MOY', 'Quartile_CV', 'PIB_VAL', 'PIB_VOL', 'chomage', 'Quartile_Region_MOY']]\n",
        "y = df_merged_4_h1['variation']\n",
        "\n",
        "# Convertissez les variables catégorielles en variables indicatrices (dummies)\n",
        "#X = pd.get_dummies(X, drop_first=True)\n",
        "\n",
        "# Divisez les données en ensembles d'entraînement et de test\n",
        "X_train, X_test, y_train, y_test = train_test_split(X, y, test_size=0.2, random_state=42)\n",
        "\n",
        "\n"
      ]
    },
    {
      "cell_type": "code",
      "execution_count": null,
      "metadata": {
        "id": "50bNPcKpUauJ"
      },
      "outputs": [],
      "source": [
        "# Initialisez le modèle de régression linéaire\n",
        "model = LinearRegression()\n",
        "\n",
        "# Entraînez le modèle sur l'ensemble d'entraînement\n",
        "model.fit(X_train, y_train)\n"
      ]
    },
    {
      "cell_type": "code",
      "execution_count": null,
      "metadata": {
        "id": "4c38ghjIUauJ"
      },
      "outputs": [],
      "source": [
        "# Faites des prédictions sur l'ensemble de test\n",
        "y_pred = model.predict(X_test)\n",
        "\n",
        "# Évaluez la performance du modèle\n",
        "mse = mean_squared_error(y_test, y_pred)\n",
        "r2 = r2_score(y_test, y_pred)\n",
        "\n",
        "# Affichez les performances du modèle\n",
        "print(f'Mean Squared Error: {mse}')\n",
        "print(f'R-squared: {r2}')"
      ]
    },
    {
      "cell_type": "code",
      "execution_count": null,
      "metadata": {
        "id": "okgTztR1UauJ"
      },
      "outputs": [],
      "source": [
        "# Obtenez les coefficients du modèle\n",
        "coefficients = model.coef_\n",
        "\n",
        "# Obtenez l'intercept du modèle\n",
        "intercept = model.intercept_\n",
        "\n",
        "# Affichez les coefficients\n",
        "print('Coefficients:', coefficients)\n",
        "print('Intercept:', intercept)"
      ]
    },
    {
      "cell_type": "code",
      "execution_count": null,
      "metadata": {
        "scrolled": true,
        "id": "UC7OwJNjUauK"
      },
      "outputs": [],
      "source": [
        "import statsmodels.api as sm\n",
        "\n",
        "# Ajoutez une colonne constante pour représenter l'intercept dans le modèle\n",
        "X_train = sm.add_constant(X_train)\n",
        "\n",
        "# Initialisez le modèle de régression linéaire avec statsmodels\n",
        "model_stats = sm.OLS(y_train, X_train)\n",
        "\n",
        "# Ajustez le modèle\n",
        "result = model_stats.fit()\n",
        "\n",
        "# Affichez les statistiques détaillées\n",
        "print(result.summary())"
      ]
    },
    {
      "cell_type": "markdown",
      "metadata": {
        "id": "nkzMLhEEUauK"
      },
      "source": [
        "L'output fournit les résultats de la régression linéaire. Voici comment interpréter les principaux éléments de la sortie :\n",
        "\n",
        "Coefficients (coef):\n",
        "\n",
        "const (constante) : -2.89e+04\n",
        "Année : 14.1580\n",
        "Quartile_MOY : 85.1934\n",
        "Quartile_CV : 10.6791\n",
        "PIB_VAL : 0.0041\n",
        "PIB_VOL : -0.0037\n",
        "chomage : 8.8937\n",
        "Quartile_Region_MOY_2 : 38.3696\n",
        "Quartile_Region_MOY_3 : 35.7284\n",
        "Quartile_Region_MOY_4 : 1.9070\n",
        "Chaque coefficient est associé à une variable explicative particulière. Par exemple, pour la variable 'Année', une augmentation d'une unité de l'année est associée à une augmentation d'environ 14.16 unités dans la variable dépendante 'variation'. Les valeurs 'const' représentent l'intercept du modèle.\n",
        "\n",
        "P>|t| (p-value):\n",
        "\n",
        "La colonne P>|t| donne la valeur p associée à chaque coefficient. Si la valeur p est inférieure à un niveau de signification choisi (par exemple, 0.05), le coefficient est généralement considéré comme significatif. Dans votre sortie, tous les coefficients, à l'exception de 'Quartile_Region_MOY_4', sont significatifs.\n",
        "R-squared (R²) :\n",
        "\n",
        "R-squared mesure la proportion de la variance dans la variable dépendante qui est expliquée par le modèle. Dans ce cas, le R-squared est de 0.274, ce qui signifie que le modèle explique environ 27.4% de la variance dans 'variation'.\n",
        "Adj. R-squared (R² ajusté) :\n",
        "\n",
        "C'est une version ajustée du R-squared qui prend en compte le nombre de variables explicatives dans le modèle. Un R-squared ajusté plus proche de 1 est généralement préférable.\n",
        "F-statistic :\n",
        "\n",
        "L'analyse de la variance (ANOVA) teste l'hypothèse nulle que tous les coefficients du modèle sont égaux à zéro. Le F-statistic est utilisé pour tester cette hypothèse. Une valeur faible de Prob (F-statistic) indique que le modèle dans son ensemble est significatif. Ici, le Prob (F-statistic) est proche de zéro, ce qui indique que le modèle est globalement significatif.\n",
        "Prob (Omnibus) :\n",
        "\n",
        "Test d'omnibus : teste l'hypothèse nulle que les résidus sont normalement distribués. Une faible valeur p suggère que la distribution des résidus n'est pas normale.\n",
        "Durbin-Watson :\n",
        "\n",
        "Mesure de l'autocorrélation des résidus. La valeur idéale est proche de 2. Une valeur entre 1.5 et 2.5 est généralement acceptable.\n",
        "Jarque-Bera (JB) :\n",
        "\n",
        "Un autre test de normalité des résidus. Si la valeur p est faible, cela suggère que les résidus ne sont pas normalement distribués.\n",
        "Skew et Kurtosis :\n",
        "\n",
        "Mesures de la symétrie et de l'aplatissement de la distribution des résidus.\n",
        "Condition Number :\n",
        "\n",
        "Mesure la sensibilité du modèle aux petites modifications des données. Une valeur élevée suggère une forte multicollinéarité.\n",
        "Il est important de considérer ces éléments dans le contexte de votre problème et de comprendre les implications pratiques des résultats"
      ]
    },
    {
      "cell_type": "code",
      "execution_count": null,
      "metadata": {
        "id": "tGCgZQwcUauK"
      },
      "outputs": [],
      "source": [
        "df_merged_4_h1"
      ]
    },
    {
      "cell_type": "markdown",
      "metadata": {
        "id": "qZY2rtrrUauK"
      },
      "source": [
        "<p style=\"color:red\"> On n'a pas un modèle satisfaisant car on a une segmentation spatiale sur les régions et des observations sur les départements, or on peut avoir une grande variabilité pour les département au sein d'une région  "
      ]
    },
    {
      "cell_type": "code",
      "execution_count": null,
      "metadata": {
        "id": "FDUVfvTlUauK"
      },
      "outputs": [],
      "source": [
        "df_merged_4_h1.info()"
      ]
    },
    {
      "cell_type": "code",
      "execution_count": null,
      "metadata": {
        "id": "X1ocZMhpUauK"
      },
      "outputs": [],
      "source": [
        "df_merged_1_h2 = df_merged_4_h1"
      ]
    },
    {
      "cell_type": "code",
      "execution_count": null,
      "metadata": {
        "id": "3pARG42UUauK"
      },
      "outputs": [],
      "source": [
        "df_merged_1_h2['Quartile_Region_MOY'] = df_merged_1_h2['Quartile_Region_MOY'].astype('int64')\n",
        "df_merged_1_h2"
      ]
    },
    {
      "cell_type": "code",
      "execution_count": null,
      "metadata": {
        "id": "I77w3lkcUauK"
      },
      "outputs": [],
      "source": [
        "df_merged_1_h2.info()"
      ]
    },
    {
      "cell_type": "code",
      "execution_count": null,
      "metadata": {
        "id": "X-ez0PZuUauL"
      },
      "outputs": [],
      "source": [
        "df_merged_2_h2= df_merged_1_h2.drop(['code_dep', 'nombre_creation', 'nombre_defaut'], axis=1)\n",
        "df_merged_2_h2"
      ]
    },
    {
      "cell_type": "code",
      "execution_count": null,
      "metadata": {
        "id": "IcoKtSTCUauL"
      },
      "outputs": [],
      "source": [
        "df_merged_3_h2 = df_merged_2_h2.groupby(['Secteur', 'Année', 'Code', 'Région'])\n",
        "df_merged_3_h2"
      ]
    },
    {
      "cell_type": "code",
      "execution_count": null,
      "metadata": {
        "id": "0NyJ5H-UUauL"
      },
      "outputs": [],
      "source": [
        "df_means = df_merged_3_h2[['Quartile_MOY', 'Quartile_CV','Quartile_Region_MOY', 'chomage', 'PIB_HAB', 'PIB_EMP']].mean()"
      ]
    },
    {
      "cell_type": "code",
      "execution_count": null,
      "metadata": {
        "id": "9vodsu2dUauL"
      },
      "outputs": [],
      "source": [
        "df_sums = df_merged_3_h2[['PIB_VAL', 'PIB_VOL', 'variation']].sum()"
      ]
    },
    {
      "cell_type": "code",
      "execution_count": null,
      "metadata": {
        "id": "O6CahuC6UauL"
      },
      "outputs": [],
      "source": [
        "df_final = pd.merge(df_means, df_sums, left_index=True, right_index=True)"
      ]
    },
    {
      "cell_type": "code",
      "execution_count": null,
      "metadata": {
        "id": "RTY4O2BKUauL"
      },
      "outputs": [],
      "source": [
        "df_final"
      ]
    },
    {
      "cell_type": "code",
      "execution_count": null,
      "metadata": {
        "id": "6eFK7_AsUauL"
      },
      "outputs": [],
      "source": [
        "df_final.reset_index(inplace=True)"
      ]
    },
    {
      "cell_type": "code",
      "execution_count": null,
      "metadata": {
        "id": "TzWAUMX-UauL"
      },
      "outputs": [],
      "source": [
        "df_final"
      ]
    },
    {
      "cell_type": "code",
      "execution_count": null,
      "metadata": {
        "id": "B5pJBJiwUauM"
      },
      "outputs": [],
      "source": [
        "\n",
        "# Sélectionnez les colonnes pour X (caractéristiques) et y (variable cible)\n",
        "X = df_final[[ 'Année', 'Quartile_MOY', 'Quartile_CV', 'PIB_VAL', 'PIB_VOL', 'chomage', 'Quartile_Region_MOY']]\n",
        "y = df_final['variation']\n",
        "\n",
        "# Convertissez les variables catégorielles en variables indicatrices (dummies)\n",
        "#X = pd.get_dummies(X, drop_first=True)\n",
        "\n",
        "# Divisez les données en ensembles d'entraînement et de test\n",
        "X_train, X_test, y_train, y_test = train_test_split(X, y, test_size=0.2, random_state=42)\n",
        "\n",
        "\n"
      ]
    },
    {
      "cell_type": "code",
      "execution_count": null,
      "metadata": {
        "id": "vcvAcxHFUauM"
      },
      "outputs": [],
      "source": [
        "# Initialisez le modèle de régression linéaire\n",
        "model = LinearRegression()\n",
        "\n",
        "# Entraînez le modèle sur l'ensemble d'entraînement\n",
        "model.fit(X_train, y_train)\n"
      ]
    },
    {
      "cell_type": "code",
      "execution_count": null,
      "metadata": {
        "id": "B8ZXwQeTUauM"
      },
      "outputs": [],
      "source": [
        "# Faites des prédictions sur l'ensemble de test\n",
        "y_pred = model.predict(X_test)\n",
        "\n",
        "# Évaluez la performance du modèle\n",
        "mse = mean_squared_error(y_test, y_pred)\n",
        "r2 = r2_score(y_test, y_pred)\n",
        "\n",
        "# Affichez les performances du modèle\n",
        "print(f'Mean Squared Error: {mse}')\n",
        "print(f'R-squared: {r2}')"
      ]
    },
    {
      "cell_type": "code",
      "execution_count": null,
      "metadata": {
        "id": "lQDjY-CeUauM"
      },
      "outputs": [],
      "source": [
        "# Obtenez les coefficients du modèle\n",
        "coefficients = model.coef_\n",
        "\n",
        "# Obtenez l'intercept du modèle\n",
        "intercept = model.intercept_\n",
        "\n",
        "# Affichez les coefficients\n",
        "print('Coefficients:', coefficients)\n",
        "print('Intercept:', intercept)"
      ]
    },
    {
      "cell_type": "code",
      "execution_count": null,
      "metadata": {
        "scrolled": false,
        "id": "5F1_zcUJUauM"
      },
      "outputs": [],
      "source": [
        "import statsmodels.api as sm\n",
        "\n",
        "# Ajoutez une colonne constante pour représenter l'intercept dans le modèle\n",
        "X_train = sm.add_constant(X_train)\n",
        "\n",
        "# Initialisez le modèle de régression linéaire avec statsmodels\n",
        "model_stats = sm.OLS(y_train, X_train)\n",
        "\n",
        "# Ajustez le modèle\n",
        "result = model_stats.fit()\n",
        "\n",
        "# Affichez les statistiques détaillées\n",
        "print(result.summary())"
      ]
    },
    {
      "cell_type": "code",
      "execution_count": null,
      "metadata": {
        "id": "HXF3rhAXUauM"
      },
      "outputs": [],
      "source": []
    },
    {
      "cell_type": "code",
      "execution_count": null,
      "metadata": {
        "id": "JIVqI0aZUauM"
      },
      "outputs": [],
      "source": [
        "\n",
        "# Sélectionnez les colonnes pour X (caractéristiques) et y (variable cible)\n",
        "X = df_final[[ 'Année', 'Quartile_MOY', 'Quartile_CV', 'chomage', 'Quartile_Region_MOY']]\n",
        "y = df_final['variation']\n",
        "\n",
        "# Convertissez les variables catégorielles en variables indicatrices (dummies)\n",
        "#X = pd.get_dummies(X, drop_first=True)\n",
        "\n",
        "# Divisez les données en ensembles d'entraînement et de test\n",
        "X_train, X_test, y_train, y_test = train_test_split(X, y, test_size=0.2, random_state=42)\n",
        "\n",
        "# Initialisez le modèle de régression linéaire\n",
        "model = LinearRegression()\n",
        "\n",
        "# Entraînez le modèle sur l'ensemble d'entraînement\n",
        "model.fit(X_train, y_train)\n",
        "\n",
        "# Faites des prédictions sur l'ensemble de test\n",
        "y_pred = model.predict(X_test)\n",
        "\n",
        "# Évaluez la performance du modèle\n",
        "mse = mean_squared_error(y_test, y_pred)\n",
        "r2 = r2_score(y_test, y_pred)\n",
        "\n",
        "# Affichez les performances du modèle\n",
        "print(f'Mean Squared Error: {mse}')\n",
        "print(f'R-squared: {r2}')"
      ]
    },
    {
      "cell_type": "code",
      "execution_count": null,
      "metadata": {
        "id": "SX91cM77UauM"
      },
      "outputs": [],
      "source": [
        "# Obtenez les coefficients du modèle\n",
        "coefficients = model.coef_\n",
        "\n",
        "# Obtenez l'intercept du modèle\n",
        "intercept = model.intercept_\n",
        "\n",
        "# Affichez les coefficients\n",
        "print('Coefficients:', coefficients)\n",
        "print('Intercept:', intercept)"
      ]
    },
    {
      "cell_type": "code",
      "execution_count": null,
      "metadata": {
        "id": "IpEzaZdrUauM"
      },
      "outputs": [],
      "source": [
        "import statsmodels.api as sm\n",
        "\n",
        "# Ajoutez une colonne constante pour représenter l'intercept dans le modèle\n",
        "X_train = sm.add_constant(X_train)\n",
        "\n",
        "# Initialisez le modèle de régression linéaire avec statsmodels\n",
        "model_stats = sm.OLS(y_train, X_train)\n",
        "\n",
        "# Ajustez le modèle\n",
        "result = model_stats.fit()\n",
        "\n",
        "# Affichez les statistiques détaillées\n",
        "print(result.summary())"
      ]
    },
    {
      "cell_type": "code",
      "execution_count": null,
      "metadata": {
        "id": "VG9MO8Z2UauN"
      },
      "outputs": [],
      "source": []
    },
    {
      "cell_type": "code",
      "execution_count": null,
      "metadata": {
        "id": "8RDn_t4FUauN"
      },
      "outputs": [],
      "source": []
    }
  ],
  "metadata": {
    "kernelspec": {
      "display_name": "Python 3 (ipykernel)",
      "language": "python",
      "name": "python3"
    },
    "language_info": {
      "codemirror_mode": {
        "name": "ipython",
        "version": 3
      },
      "file_extension": ".py",
      "mimetype": "text/x-python",
      "name": "python",
      "nbconvert_exporter": "python",
      "pygments_lexer": "ipython3",
      "version": "3.11.4"
    },
    "colab": {
      "provenance": [],
      "include_colab_link": true
    }
  },
  "nbformat": 4,
  "nbformat_minor": 0
}